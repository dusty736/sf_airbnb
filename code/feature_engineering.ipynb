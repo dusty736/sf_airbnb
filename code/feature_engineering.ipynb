{
 "cells": [
  {
   "cell_type": "markdown",
   "id": "45f83156",
   "metadata": {},
   "source": [
    "# Feature Engineering\n",
    "\n",
    "This notebook will engineer text features from the property reviews, and temporal features from calendar data.  The text features will include the top BOW words from the preprocessed text, and cluster labels after text embedding.  (May need extra computing power).  The temporal features will be aggregated features like average price of neighbourhood by month."
   ]
  },
  {
   "cell_type": "code",
   "execution_count": 1,
   "id": "449226e7",
   "metadata": {},
   "outputs": [],
   "source": [
    "# Read in libraries"
   ]
  },
  {
   "cell_type": "code",
   "execution_count": 2,
   "id": "541287c8",
   "metadata": {},
   "outputs": [],
   "source": [
    "# Read in data"
   ]
  },
  {
   "cell_type": "code",
   "execution_count": 3,
   "id": "4db8c7b7",
   "metadata": {},
   "outputs": [],
   "source": [
    "# Functions"
   ]
  },
  {
   "cell_type": "markdown",
   "id": "7c215b6c",
   "metadata": {},
   "source": [
    "## Review Feature Engineering"
   ]
  },
  {
   "cell_type": "code",
   "execution_count": null,
   "id": "21fc7d3c",
   "metadata": {},
   "outputs": [],
   "source": [
    "# BOW"
   ]
  },
  {
   "cell_type": "code",
   "execution_count": null,
   "id": "5e44adc9",
   "metadata": {},
   "outputs": [],
   "source": []
  },
  {
   "cell_type": "code",
   "execution_count": null,
   "id": "5bb4019f",
   "metadata": {},
   "outputs": [],
   "source": []
  },
  {
   "cell_type": "code",
   "execution_count": null,
   "id": "8536686b",
   "metadata": {},
   "outputs": [],
   "source": [
    "# Text Embedding"
   ]
  },
  {
   "cell_type": "code",
   "execution_count": null,
   "id": "9f750fab",
   "metadata": {},
   "outputs": [],
   "source": []
  },
  {
   "cell_type": "code",
   "execution_count": null,
   "id": "c4703573",
   "metadata": {},
   "outputs": [],
   "source": []
  },
  {
   "cell_type": "code",
   "execution_count": null,
   "id": "24bd0c57",
   "metadata": {},
   "outputs": [],
   "source": [
    "# Clustering"
   ]
  },
  {
   "cell_type": "code",
   "execution_count": null,
   "id": "d0c4c376",
   "metadata": {},
   "outputs": [],
   "source": []
  },
  {
   "cell_type": "code",
   "execution_count": null,
   "id": "79e297fa",
   "metadata": {},
   "outputs": [],
   "source": []
  },
  {
   "cell_type": "code",
   "execution_count": null,
   "id": "f80ac546",
   "metadata": {},
   "outputs": [],
   "source": [
    "# Add new features"
   ]
  },
  {
   "cell_type": "code",
   "execution_count": null,
   "id": "1686068b",
   "metadata": {},
   "outputs": [],
   "source": []
  },
  {
   "cell_type": "code",
   "execution_count": null,
   "id": "e3fc48fa",
   "metadata": {},
   "outputs": [],
   "source": []
  },
  {
   "cell_type": "markdown",
   "id": "508ed048",
   "metadata": {},
   "source": [
    "## Calendar Feature Engineering"
   ]
  },
  {
   "cell_type": "code",
   "execution_count": null,
   "id": "414e9055",
   "metadata": {},
   "outputs": [],
   "source": [
    "# Merge neighbourhood data onto calendar data"
   ]
  },
  {
   "cell_type": "code",
   "execution_count": null,
   "id": "5d8a5ac0",
   "metadata": {},
   "outputs": [],
   "source": []
  },
  {
   "cell_type": "code",
   "execution_count": null,
   "id": "ded4b86e",
   "metadata": {},
   "outputs": [],
   "source": [
    "# Add day of week feature"
   ]
  },
  {
   "cell_type": "code",
   "execution_count": null,
   "id": "b3090d7a",
   "metadata": {},
   "outputs": [],
   "source": []
  },
  {
   "cell_type": "code",
   "execution_count": null,
   "id": "e32d1f7c",
   "metadata": {},
   "outputs": [],
   "source": [
    "# Add week of year feature"
   ]
  },
  {
   "cell_type": "code",
   "execution_count": null,
   "id": "3ccd6252",
   "metadata": {},
   "outputs": [],
   "source": []
  },
  {
   "cell_type": "code",
   "execution_count": null,
   "id": "46a366ff",
   "metadata": {},
   "outputs": [],
   "source": [
    "# Add month of year feature"
   ]
  },
  {
   "cell_type": "code",
   "execution_count": null,
   "id": "d5a5be62",
   "metadata": {},
   "outputs": [],
   "source": []
  },
  {
   "cell_type": "code",
   "execution_count": null,
   "id": "f5b7d9db",
   "metadata": {},
   "outputs": [],
   "source": [
    "# Add year feature"
   ]
  },
  {
   "cell_type": "code",
   "execution_count": null,
   "id": "71a57659",
   "metadata": {},
   "outputs": [],
   "source": []
  },
  {
   "cell_type": "code",
   "execution_count": null,
   "id": "3ace5aca",
   "metadata": {},
   "outputs": [],
   "source": [
    "# Add binary holiday feature"
   ]
  },
  {
   "cell_type": "code",
   "execution_count": null,
   "id": "72a7e757",
   "metadata": {},
   "outputs": [],
   "source": []
  },
  {
   "cell_type": "code",
   "execution_count": null,
   "id": "97e82711",
   "metadata": {},
   "outputs": [],
   "source": [
    "# Aggregate price by day, week, month, year and neighborhood"
   ]
  },
  {
   "cell_type": "code",
   "execution_count": null,
   "id": "878d68de",
   "metadata": {},
   "outputs": [],
   "source": []
  }
 ],
 "metadata": {
  "kernelspec": {
   "display_name": "Python 3",
   "language": "python",
   "name": "python3"
  },
  "language_info": {
   "codemirror_mode": {
    "name": "ipython",
    "version": 3
   },
   "file_extension": ".py",
   "mimetype": "text/x-python",
   "name": "python",
   "nbconvert_exporter": "python",
   "pygments_lexer": "ipython3",
   "version": "3.9.1"
  }
 },
 "nbformat": 4,
 "nbformat_minor": 5
}
