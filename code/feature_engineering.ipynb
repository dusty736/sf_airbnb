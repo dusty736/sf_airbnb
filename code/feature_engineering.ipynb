{
 "cells": [
  {
   "cell_type": "markdown",
   "id": "56357894",
   "metadata": {},
   "source": [
    "# Feature Engineering\n",
    "\n",
    "This notebook will engineer text features from the property reviews, and temporal features from calendar data.  The text features will include the top BOW words from the preprocessed text, and cluster labels after text embedding.  (May need extra computing power).  The temporal features will be aggregated features like average price of neighbourhood by month."
   ]
  },
  {
   "cell_type": "code",
   "execution_count": 10,
   "id": "d424bcb3",
   "metadata": {},
   "outputs": [],
   "source": [
    "# Read in libraries\n",
    "# Load libraries\n",
    "import numpy as np\n",
    "import pandas as pd\n",
    "import time\n",
    "import os\n",
    "import sys\n",
    "import ast\n",
    "import json\n",
    "import datetime as dt\n",
    "from datetime import datetime\n",
    "from itertools import chain\n",
    "from sklearn.preprocessing import MultiLabelBinarizer\n",
    "import nltk\n",
    "from nltk.tokenize import sent_tokenize, word_tokenize\n",
    "from nltk.corpus import stopwords\n",
    "import string\n",
    "from sklearn.feature_extraction.text import CountVectorizer\n",
    "from sklearn.feature_extraction.text import TfidfVectorizer\n",
    "from sklearn import manifold\n",
    "from sklearn.cluster import KMeans\n",
    "from matplotlib import pyplot as plt\n",
    "\n",
    "# Unlimited columns\n",
    "pd.options.display.max_columns = None"
   ]
  },
  {
   "cell_type": "code",
   "execution_count": 3,
   "id": "04a48f3e",
   "metadata": {},
   "outputs": [],
   "source": [
    "# Read in data\n",
    "# Load calendar data\n",
    "calendar = pd.read_csv(\"../data/processed/calendar.csv\")\n",
    "\n",
    "# Load reviews data\n",
    "review_map = pd.read_csv(\"../data/raw/reviews_ids.csv\")\n",
    "reviews = pd.read_csv(\"../data/processed/reviews.csv\")\n",
    "\n",
    "# Load listings data\n",
    "listings = pd.read_csv(\"../data/processed/listings.csv\")\n",
    "\n",
    "# Load neighborhoods\n",
    "neighborhoods = pd.read_csv(\"../data/processed/neighbourhoods.csv\")"
   ]
  },
  {
   "cell_type": "code",
   "execution_count": 4,
   "id": "a8994e39",
   "metadata": {},
   "outputs": [],
   "source": [
    "# Functions"
   ]
  },
  {
   "cell_type": "markdown",
   "id": "0dec19eb",
   "metadata": {},
   "source": [
    "## Review Feature Engineering"
   ]
  },
  {
   "cell_type": "code",
   "execution_count": 5,
   "id": "40916223",
   "metadata": {},
   "outputs": [],
   "source": [
    "# BOW"
   ]
  },
  {
   "cell_type": "code",
   "execution_count": null,
   "id": "02b6bf77",
   "metadata": {},
   "outputs": [],
   "source": []
  },
  {
   "cell_type": "code",
   "execution_count": 6,
   "id": "9447e554",
   "metadata": {},
   "outputs": [
    {
     "data": {
      "text/html": [
       "<div>\n",
       "<style scoped>\n",
       "    .dataframe tbody tr th:only-of-type {\n",
       "        vertical-align: middle;\n",
       "    }\n",
       "\n",
       "    .dataframe tbody tr th {\n",
       "        vertical-align: top;\n",
       "    }\n",
       "\n",
       "    .dataframe thead th {\n",
       "        text-align: right;\n",
       "    }\n",
       "</style>\n",
       "<table border=\"1\" class=\"dataframe\">\n",
       "  <thead>\n",
       "    <tr style=\"text-align: right;\">\n",
       "      <th></th>\n",
       "      <th>Unnamed: 0</th>\n",
       "      <th>listing_id</th>\n",
       "      <th>id</th>\n",
       "      <th>date</th>\n",
       "      <th>reviewer_id</th>\n",
       "      <th>reviewer_name</th>\n",
       "      <th>comments</th>\n",
       "    </tr>\n",
       "  </thead>\n",
       "  <tbody>\n",
       "    <tr>\n",
       "      <th>0</th>\n",
       "      <td>0</td>\n",
       "      <td>958</td>\n",
       "      <td>958</td>\n",
       "      <td>2009-07-23</td>\n",
       "      <td>958</td>\n",
       "      <td>Edmund C</td>\n",
       "      <td>experience without doubt five star experience ...</td>\n",
       "    </tr>\n",
       "    <tr>\n",
       "      <th>1</th>\n",
       "      <td>1</td>\n",
       "      <td>958</td>\n",
       "      <td>958</td>\n",
       "      <td>2009-08-03</td>\n",
       "      <td>958</td>\n",
       "      <td>Simon</td>\n",
       "      <td>returning san francisco rejuvenating thrill ti...</td>\n",
       "    </tr>\n",
       "    <tr>\n",
       "      <th>2</th>\n",
       "      <td>2</td>\n",
       "      <td>958</td>\n",
       "      <td>958</td>\n",
       "      <td>2009-09-27</td>\n",
       "      <td>958</td>\n",
       "      <td>Denis</td>\n",
       "      <td>pleased accommodations friendly neighborhood a...</td>\n",
       "    </tr>\n",
       "    <tr>\n",
       "      <th>3</th>\n",
       "      <td>3</td>\n",
       "      <td>958</td>\n",
       "      <td>958</td>\n",
       "      <td>2009-11-05</td>\n",
       "      <td>958</td>\n",
       "      <td>Anna</td>\n",
       "      <td>highly recommend accomodation agree previous p...</td>\n",
       "    </tr>\n",
       "    <tr>\n",
       "      <th>4</th>\n",
       "      <td>4</td>\n",
       "      <td>958</td>\n",
       "      <td>958</td>\n",
       "      <td>2010-02-13</td>\n",
       "      <td>958</td>\n",
       "      <td>Venetia</td>\n",
       "      <td>holly place great exactly needed perfect locat...</td>\n",
       "    </tr>\n",
       "  </tbody>\n",
       "</table>\n",
       "</div>"
      ],
      "text/plain": [
       "   Unnamed: 0  listing_id   id        date  reviewer_id reviewer_name  \\\n",
       "0           0         958  958  2009-07-23          958      Edmund C   \n",
       "1           1         958  958  2009-08-03          958         Simon   \n",
       "2           2         958  958  2009-09-27          958         Denis   \n",
       "3           3         958  958  2009-11-05          958          Anna   \n",
       "4           4         958  958  2010-02-13          958       Venetia   \n",
       "\n",
       "                                            comments  \n",
       "0  experience without doubt five star experience ...  \n",
       "1  returning san francisco rejuvenating thrill ti...  \n",
       "2  pleased accommodations friendly neighborhood a...  \n",
       "3  highly recommend accomodation agree previous p...  \n",
       "4  holly place great exactly needed perfect locat...  "
      ]
     },
     "execution_count": 6,
     "metadata": {},
     "output_type": "execute_result"
    }
   ],
   "source": [
    "reviews.head()"
   ]
  },
  {
   "cell_type": "code",
   "execution_count": 7,
   "id": "8866403b",
   "metadata": {},
   "outputs": [],
   "source": [
    "# Text Embedding\n",
    "reviews['comments'] = reviews.comments.replace(np.nan, \"\")\n",
    "corpus = list(reviews.comments)"
   ]
  },
  {
   "cell_type": "code",
   "execution_count": 8,
   "id": "9d6e5c78",
   "metadata": {},
   "outputs": [],
   "source": [
    "vectorizer = TfidfVectorizer(stop_words={'english'})\n",
    "vec_corpus = vectorizer.fit_transform(corpus)"
   ]
  },
  {
   "cell_type": "code",
   "execution_count": 12,
   "id": "27e817f0",
   "metadata": {},
   "outputs": [],
   "source": [
    "Sum_of_squared_distances = []\n",
    "K = range(3, 5)\n",
    "for k in K:\n",
    "    km = KMeans(n_clusters=k, max_iter=200, n_init=10)\n",
    "    km = km.fit(vec_corpus)\n",
    "    Sum_of_squared_distances.append(km.inertia_)"
   ]
  },
  {
   "cell_type": "code",
   "execution_count": 13,
   "id": "0e9d28ea",
   "metadata": {},
   "outputs": [
    {
     "data": {
      "image/png": "[encoded data removed]",
      "text/plain": [
       "<Figure size 432x288 with 1 Axes>"
      ]
     },
     "metadata": {
      "needs_background": "light"
     },
     "output_type": "display_data"
    }
   ],
   "source": [
    "plt.plot(K, Sum_of_squared_distances, 'bx-')\n",
    "plt.xlabel('k')\n",
    "plt.ylabel('Sum_of_squared_distances')\n",
    "plt.title('Elbow Method For Optimal k')\n",
    "plt.show()"
   ]
  },
  {
   "cell_type": "code",
   "execution_count": null,
   "id": "ddd24daf",
   "metadata": {},
   "outputs": [],
   "source": []
  },
  {
   "cell_type": "code",
   "execution_count": null,
   "id": "a03fb900",
   "metadata": {},
   "outputs": [],
   "source": []
  },
  {
   "cell_type": "code",
   "execution_count": null,
   "id": "ed772605",
   "metadata": {},
   "outputs": [],
   "source": []
  },
  {
   "cell_type": "code",
   "execution_count": null,
   "id": "ecd3570b",
   "metadata": {},
   "outputs": [],
   "source": []
  },
  {
   "cell_type": "code",
   "execution_count": null,
   "id": "31024cfb",
   "metadata": {},
   "outputs": [],
   "source": [
    "# Clustering"
   ]
  },
  {
   "cell_type": "code",
   "execution_count": null,
   "id": "313e71d5",
   "metadata": {},
   "outputs": [],
   "source": []
  },
  {
   "cell_type": "code",
   "execution_count": null,
   "id": "76dbb7ce",
   "metadata": {},
   "outputs": [],
   "source": []
  },
  {
   "cell_type": "code",
   "execution_count": null,
   "id": "f703fada",
   "metadata": {},
   "outputs": [],
   "source": [
    "# Add new features"
   ]
  },
  {
   "cell_type": "code",
   "execution_count": null,
   "id": "897a7531",
   "metadata": {},
   "outputs": [],
   "source": []
  },
  {
   "cell_type": "code",
   "execution_count": null,
   "id": "287bf3fa",
   "metadata": {},
   "outputs": [],
   "source": []
  },
  {
   "cell_type": "markdown",
   "id": "55317735",
   "metadata": {},
   "source": [
    "## Calendar Feature Engineering"
   ]
  },
  {
   "cell_type": "code",
   "execution_count": null,
   "id": "52bad486",
   "metadata": {},
   "outputs": [],
   "source": [
    "# Merge neighbourhood data onto calendar data"
   ]
  },
  {
   "cell_type": "code",
   "execution_count": null,
   "id": "f18859ae",
   "metadata": {},
   "outputs": [],
   "source": []
  },
  {
   "cell_type": "code",
   "execution_count": null,
   "id": "202b594d",
   "metadata": {},
   "outputs": [],
   "source": [
    "# Add day of week feature"
   ]
  },
  {
   "cell_type": "code",
   "execution_count": null,
   "id": "ceb4dbd4",
   "metadata": {},
   "outputs": [],
   "source": []
  },
  {
   "cell_type": "code",
   "execution_count": null,
   "id": "c322f360",
   "metadata": {},
   "outputs": [],
   "source": [
    "# Add week of year feature"
   ]
  },
  {
   "cell_type": "code",
   "execution_count": null,
   "id": "e92e7c62",
   "metadata": {},
   "outputs": [],
   "source": []
  },
  {
   "cell_type": "code",
   "execution_count": null,
   "id": "d7127af1",
   "metadata": {},
   "outputs": [],
   "source": [
    "# Add month of year feature"
   ]
  },
  {
   "cell_type": "code",
   "execution_count": null,
   "id": "2e8c6a1d",
   "metadata": {},
   "outputs": [],
   "source": []
  },
  {
   "cell_type": "code",
   "execution_count": null,
   "id": "4d02a670",
   "metadata": {},
   "outputs": [],
   "source": [
    "# Add year feature"
   ]
  },
  {
   "cell_type": "code",
   "execution_count": null,
   "id": "5891c6aa",
   "metadata": {},
   "outputs": [],
   "source": []
  },
  {
   "cell_type": "code",
   "execution_count": null,
   "id": "76b5c4cb",
   "metadata": {},
   "outputs": [],
   "source": [
    "# Add binary holiday feature"
   ]
  },
  {
   "cell_type": "code",
   "execution_count": null,
   "id": "f187f67f",
   "metadata": {},
   "outputs": [],
   "source": []
  },
  {
   "cell_type": "code",
   "execution_count": null,
   "id": "821a6906",
   "metadata": {},
   "outputs": [],
   "source": [
    "# Aggregate price by day, week, month, year and neighborhood"
   ]
  },
  {
   "cell_type": "code",
   "execution_count": null,
   "id": "569fa67c",
   "metadata": {},
   "outputs": [],
   "source": []
  }
 ],
 "metadata": {
  "kernelspec": {
   "display_name": "Python 3",
   "language": "python",
   "name": "python3"
  },
  "language_info": {
   "codemirror_mode": {
    "name": "ipython",
    "version": 3
   },
   "file_extension": ".py",
   "mimetype": "text/x-python",
   "name": "python",
   "nbconvert_exporter": "python",
   "pygments_lexer": "ipython3",
   "version": "3.9.1"
  }
 },
 "nbformat": 4,
 "nbformat_minor": 5
}
